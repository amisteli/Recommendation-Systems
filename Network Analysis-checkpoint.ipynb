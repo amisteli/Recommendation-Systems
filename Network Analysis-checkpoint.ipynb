{
 "cells": [
  {
   "cell_type": "code",
   "execution_count": 1,
   "metadata": {},
   "outputs": [],
   "source": [
    "import networkx\n",
    "from operator import itemgetter\n",
    "import matplotlib.pyplot\n",
    "import pandas as pd"
   ]
  },
  {
   "cell_type": "code",
   "execution_count": 2,
   "metadata": {},
   "outputs": [],
   "source": [
    "amazonBooks = pd.read_csv('./amazon-books.csv', index_col=0)"
   ]
  },
  {
   "cell_type": "code",
   "execution_count": 3,
   "metadata": {},
   "outputs": [],
   "source": [
    "# Read the data from amazon-books-copurchase.adjlist;\n",
    "# assign it to copurchaseGraph weighted Graph;\n",
    "fhr=open(\"amazon-books-copurchase.edgelist\", 'rb')\n",
    "copurchaseGraph=networkx.read_weighted_edgelist(fhr)\n",
    "fhr.close()"
   ]
  },
  {
   "cell_type": "code",
   "execution_count": 4,
   "metadata": {},
   "outputs": [
    {
     "name": "stdout",
     "output_type": "stream",
     "text": [
      "Looking for Recommendations for Customer Purchasing this Book:\n"
     ]
    }
   ],
   "source": [
    "# Now let's assume a person is considering buying the following book;\n",
    "# what else can we recommend to them based on copurchase behavior \n",
    "# we've seen from other users?\n",
    "print (\"Looking for Recommendations for Customer Purchasing this Book:\")\n",
    "purchasedAsin = '0805047905'"
   ]
  },
  {
   "cell_type": "code",
   "execution_count": 5,
   "metadata": {},
   "outputs": [
    {
     "name": "stdout",
     "output_type": "stream",
     "text": [
      "ASIN =  0805047905\n",
      "Title =  Brown Bear, Brown Bear, What Do You See?\n",
      "SalesRank =  171\n",
      " TotalReviews  172\n",
      "AvgRating =  5.0\n",
      "DegreeCentrality =  216\n",
      "ClusteringCoeff =  0.01976744186046512\n"
     ]
    }
   ],
   "source": [
    "# Let's first get some metadata associated with this book\n",
    "print (\"ASIN = \", purchasedAsin) \n",
    "print (\"Title = \", amazonBooks.loc[purchasedAsin,'Title'])\n",
    "print (\"SalesRank = \", amazonBooks.loc[purchasedAsin,'SalesRank'])\n",
    "print (\" TotalReviews \", amazonBooks.loc[purchasedAsin,'TotalReviews'])\n",
    "print (\"AvgRating = \", amazonBooks.loc[purchasedAsin,'AvgRating'])\n",
    "print (\"DegreeCentrality = \", amazonBooks.loc[purchasedAsin,'DegreeCentrality'])\n",
    "print (\"ClusteringCoeff = \", amazonBooks.loc[purchasedAsin,'ClusteringCoeff'])"
   ]
  },
  {
   "cell_type": "code",
   "execution_count": 6,
   "metadata": {},
   "outputs": [],
   "source": [
    "# Now let's look at the ego network associated with purchasedAsin in the copurchaseGraph - \n",
    "# which is esentially comprised of all the books that have been copurchased with this book in the past\n",
    "\n",
    "purchasedAsinEgoGraph = networkx.Graph()\n",
    "purchasedAsinEgoGraph = networkx.ego_graph(copurchaseGraph, purchasedAsin, radius=1)"
   ]
  },
  {
   "cell_type": "code",
   "execution_count": 7,
   "metadata": {},
   "outputs": [],
   "source": [
    "# Next, recall that the edge weights in the copurchaseGraph is a measure of the similarity between the books connected by the edge.\n",
    "#So we can use the island method to only retain those books that are highly simialr to the purchasedAsin\n",
    "\n",
    "threshold = 0.5\n",
    "purchasedAsinEgoTrimGraph = networkx.Graph()\n",
    "\n",
    "for f, t, e in purchasedAsinEgoGraph.edges(data=True):\n",
    "    if e['weight'] >= threshold:\n",
    "        purchasedAsinEgoTrimGraph.add_edge(f,t,weight=e['weight'])"
   ]
  },
  {
   "cell_type": "code",
   "execution_count": 8,
   "metadata": {},
   "outputs": [],
   "source": [
    "# Next, recall that given the purchasedAsinEgoTrimGraph you constructed above, you can get at the list of nodes connected to the purchasedAsin by a single \n",
    "        \n",
    "purchasedAsinNeighbors = [i for i in purchasedAsinEgoTrimGraph.neighbors(purchasedAsin)] "
   ]
  },
  {
   "cell_type": "code",
   "execution_count": 9,
   "metadata": {},
   "outputs": [
    {
     "name": "stdout",
     "output_type": "stream",
     "text": [
      "MY top 5 recommandations:                                                          Title  \\\n",
      "0399208534                        The Very Hungry Caterpillar   \n",
      "0399220496  The Very Hungry Caterpillar Book with Plush Ca...   \n",
      "0399237720  Very Hungry Caterpillar Giant Board Book and P...   \n",
      "0399213015    The Very Hungry Caterpillar (MINIATURE EDITION)   \n",
      "0399216596       Very Hungry Caterpillar Plush Toy (Toy Only)   \n",
      "\n",
      "                                                   Categories  SalesRank  \\\n",
      "0399208534  stores animals specialty z favorites subjects ...       2117   \n",
      "0399220496  stores animals specialty z subjects illustrato...     181105   \n",
      "0399237720  movable stores animals specialty z subjects il...     112356   \n",
      "0399213015  stores animals specialty z subjects illustrato...     431501   \n",
      "0399216596  stores animals specialty z subjects illustrato...     467296   \n",
      "\n",
      "            TotalReviews  AvgRating  DegreeCentrality  ClusteringCoeff  \n",
      "0399208534           164        0.9                 5              1.0  \n",
      "0399220496           164        0.9                 5              1.0  \n",
      "0399237720           164        0.9                 5              1.0  \n",
      "0399213015           164        0.9                 5              1.0  \n",
      "0399216596           164        0.9                 5              1.0  \n"
     ]
    }
   ],
   "source": [
    "# Next, let's pick the Top Five book recommendations from among the purchasedAsinNeighbors based on one or more of the following data of the \n",
    "# neighboring nodes: SalesRank, AvgRating, TotalReviews, DegreeCentrality, and ClusteringCoeff\n",
    "\n",
    "dfAB=pd.DataFrame(amazonBooks)\n",
    "\n",
    "from sklearn.preprocessing import MinMaxScaler\n",
    "\n",
    "mms = MinMaxScaler()\n",
    "dfmms = pd.DataFrame(mms.fit_transform(dfAB[['TotalReviews','DegreeCentrality']]),\n",
    "                       index = dfAB.index,\n",
    "                       columns=['mms_TotalReviews', 'mms_DegreeCentrality']) \n",
    "df = pd.concat([dfAB, dfmms], axis=1)\n",
    "\n",
    "df['AvgRating'] = df['AvgRating']/5\n",
    "\n",
    "df['Composite_Measure'] = df['mms_TotalReviews']*df['AvgRating']+df['ClusteringCoeff']*df['mms_DegreeCentrality']\n",
    "\n",
    "df = df.loc[purchasedAsinNeighbors]\n",
    "\n",
    "df.sort_values(by=['Composite_Measure'], ascending=False, inplace = True)\n",
    "df.drop(['Composite_Measure','mms_DegreeCentrality','mms_TotalReviews', 'Id'], axis = 1 , inplace = True)\n",
    "\n",
    "\n",
    "Top_5_reco = df.iloc[0:5]\n",
    "print('MY top 5 recommandations: ', Top_5_reco)"
   ]
  }
 ],
 "metadata": {
  "kernelspec": {
   "display_name": "Python 3",
   "language": "python",
   "name": "python3"
  },
  "language_info": {
   "codemirror_mode": {
    "name": "ipython",
    "version": 3
   },
   "file_extension": ".py",
   "mimetype": "text/x-python",
   "name": "python",
   "nbconvert_exporter": "python",
   "pygments_lexer": "ipython3",
   "version": "3.7.4"
  }
 },
 "nbformat": 4,
 "nbformat_minor": 2
}
