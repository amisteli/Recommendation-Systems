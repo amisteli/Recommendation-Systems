{
 "cells": [
  {
   "cell_type": "code",
   "execution_count": null,
   "metadata": {},
   "outputs": [],
   "source": [
    "#Build a User Based Recommendation Systems\n",
    "#I First build two different similarity measures \n",
    "#Minkowski Distance\n",
    "#Pearson Correlation"
   ]
  },
  {
   "cell_type": "code",
   "execution_count": 1,
   "metadata": {},
   "outputs": [],
   "source": [
    "import math\n",
    "from operator import itemgetter\n",
    "\n",
    "# definie class similarity\n",
    "class similarity:\n",
    "    \n",
    "    # Class instantiation \n",
    "    def __init__ (self, ratingP, ratingQ):\n",
    "        self.ratings1 = ratingP\n",
    "        self.ratings2 = ratingQ\n",
    "\n",
    "    # Minkowski Distance between two vectors\n",
    "    def minkowski(self, r):\n",
    "    \n",
    "        distance = 0       \n",
    "        for k in (set(self.ratings1.keys()) & set(self.ratings2.keys())):\n",
    "            p = self.ratings1[k]\n",
    "            q = self.ratings2[k]\n",
    "            distance += pow(abs(p - q), r)\n",
    "    \n",
    "        return pow(distance,1/r)\n",
    "\n",
    "    # Pearson Correlation between two vectors\n",
    "    def pearson(self):\n",
    "        \n",
    "        n=len((self.ratings1.keys()) & (self.ratings2.keys()))                      \n",
    "        \n",
    "        if (n == 0):\n",
    "            print ('Error Check for n')\n",
    "            return -2\n",
    "        \n",
    "        sumab = 0\n",
    "        suma = 0\n",
    "        sumb = 0\n",
    "        suma2 = 0\n",
    "        sumb2 = 0\n",
    "        \n",
    "        for k in (set(self.ratings1.keys()) & set(self.ratings2.keys())):\n",
    "            a = self.ratings1[k]\n",
    "            b = self.ratings2[k]\n",
    "            sumab += a * b\n",
    "            suma += a\n",
    "            sumb += b\n",
    "            suma2 += pow(a, 2)\n",
    "            sumb2 += pow(b, 2)\n",
    "           \n",
    "\n",
    "        num = (sumab - (suma*sumb)/n)     \n",
    "        den = (math.sqrt(suma2 - pow(suma,2) / n) * \n",
    "               math.sqrt(sumb2 - pow(sumb,2) / n))\n",
    "       \n",
    "        if (den == 0):\n",
    "            return -2\n",
    "\n",
    "        return num/den  "
   ]
  },
  {
   "cell_type": "code",
   "execution_count": 2,
   "metadata": {},
   "outputs": [],
   "source": [
    "# user ratings - this is the same data as we used in the User Recommendation Lecture\n",
    "songData = {\"Angelica\": {\"Blues Traveler\": 3.5, \"Broken Bells\": 2.0, \"Norah Jones\": 4.5, \"Phoenix\": 5.0, \"Slightly Stoopid\": 1.5, \"The Strokes\": 2.5, \"Vampire Weekend\": 2.0},\n",
    "         \"Bill\":{\"Blues Traveler\": 2.0, \"Broken Bells\": 3.5, \"Deadmau5\": 4.0, \"Phoenix\": 2.0, \"Slightly Stoopid\": 3.5, \"Vampire Weekend\": 3.0},\n",
    "         \"Chan\": {\"Blues Traveler\": 5.0, \"Broken Bells\": 1.0, \"Deadmau5\": 1.0, \"Norah Jones\": 3.0, \"Phoenix\": 5, \"Slightly Stoopid\": 1.0},\n",
    "         \"Dan\": {\"Blues Traveler\": 3.0, \"Broken Bells\": 4.0, \"Deadmau5\": 4.5, \"Phoenix\": 3.0, \"Slightly Stoopid\": 4.5, \"The Strokes\": 4.0, \"Vampire Weekend\": 2.0},\n",
    "         \"Hailey\": {\"Broken Bells\": 4.0, \"Deadmau5\": 1.0, \"Norah Jones\": 4.0, \"The Strokes\": 4.0, \"Vampire Weekend\": 1.0},\n",
    "         \"Jordyn\":  {\"Broken Bells\": 4.5, \"Deadmau5\": 4.0, \"Norah Jones\": 5.0, \"Phoenix\": 5.0, \"Slightly Stoopid\": 4.5, \"The Strokes\": 4.0, \"Vampire Weekend\": 4.0},\n",
    "         \"Sam\": {\"Blues Traveler\": 5.0, \"Broken Bells\": 2.0, \"Norah Jones\": 3.0, \"Phoenix\": 5.0, \"Slightly Stoopid\": 4.0, \"The Strokes\": 5.0},\n",
    "         \"Veronica\": {\"Blues Traveler\": 3.0, \"Norah Jones\": 5.0, \"Phoenix\": 4.0, \"Slightly Stoopid\": 2.5, \"The Strokes\": 3.0}\n",
    "        }"
   ]
  },
  {
   "cell_type": "code",
   "execution_count": 3,
   "metadata": {},
   "outputs": [],
   "source": [
    "# for whom are we making recommendations?\n",
    "userX = \"Veronica\"\n",
    "userXRatings = songData[userX]"
   ]
  },
  {
   "cell_type": "code",
   "execution_count": 4,
   "metadata": {},
   "outputs": [],
   "source": [
    "# Step 1\n",
    "# find the similarity measure (pearson correlation) between userX's ratings, and each of the other user's ratings.\n",
    "# DO NOT include userX's similarity measure from userX.\n",
    "# use a for loop to get at the other users and their ratings - DO NOT hard code.\n",
    "# use the similarity class to caclulate the simialrity measure (pearson correlation) between user ratings.\n",
    "# assign list of (user, similarityMeasure) tuples to a variable called userSimilarities.\n",
    "\n",
    "userSimilarities = []\n",
    "\n",
    "for userY in songData.keys():\n",
    "    #create an if that will delete veronica\n",
    "    if (userY != userX):\n",
    "        simi = similarity(userXRatings,songData[userY]) \n",
    "        manXY = simi.pearson()\n",
    "        roundXY = round(manXY, 2)\n",
    "        tup = (userY, roundXY)\n",
    "        userSimilarities.append(tup)"
   ]
  },
  {
   "cell_type": "code",
   "execution_count": 5,
   "metadata": {},
   "outputs": [],
   "source": [
    "# Step 2.2\n",
    "# sort the list of tuples by highest simialrity to lowest similarity.\n",
    "# assign the sorted list to a variable called sortedUserSimilarities.\n",
    "\n",
    "sortedUserSimilarities = sorted(userSimilarities, key=itemgetter(1), reverse = True)"
   ]
  },
  {
   "cell_type": "code",
   "execution_count": 6,
   "metadata": {},
   "outputs": [],
   "source": [
    "# Step 2.3\n",
    "# userX's NN is the user at the 0th position of the sorted list.\n",
    "\n",
    "UserXNN = sortedUserSimilarities[0]\n",
    "userXNN = UserXNN[0]"
   ]
  },
  {
   "cell_type": "code",
   "execution_count": 7,
   "metadata": {},
   "outputs": [],
   "source": [
    "# Step 2.4\n",
    "# recos for userX should include albums rated by userXNN, not already rated by userX.\n",
    "# assign the list of (album, rating) tuples to a variable called userXRecos.\n",
    "\n",
    "userXRecos = []\n",
    "\n",
    "for i in songData[userXNN]:\n",
    "    if i not in songData[userX]:\n",
    "        recos = (i, songData[userXNN][i])\n",
    "        userXRecos.append(recos)"
   ]
  },
  {
   "cell_type": "code",
   "execution_count": 9,
   "metadata": {},
   "outputs": [
    {
     "name": "stdout",
     "output_type": "stream",
     "text": [
      "Recommendations for Veronica\n",
      "\n",
      "[('Broken Bells', 2.0), ('Vampire Weekend', 2.0)]\n"
     ]
    }
   ],
   "source": [
    "# Step 2.5\n",
    "# sort list of tuples by highest rating to lowest rating.\n",
    "\n",
    "\n",
    "userXSortedRecos = sorted(userXRecos,key=itemgetter(1), reverse = True)\n",
    "\n",
    "\n",
    "print (\"Recommendations for\", userX)\n",
    "print ()\n",
    "print (userXSortedRecos)"
   ]
  }
 ],
 "metadata": {
  "kernelspec": {
   "display_name": "Python 3",
   "language": "python",
   "name": "python3"
  },
  "language_info": {
   "codemirror_mode": {
    "name": "ipython",
    "version": 3
   },
   "file_extension": ".py",
   "mimetype": "text/x-python",
   "name": "python",
   "nbconvert_exporter": "python",
   "pygments_lexer": "ipython3",
   "version": "3.7.4"
  }
 },
 "nbformat": 4,
 "nbformat_minor": 2
}
